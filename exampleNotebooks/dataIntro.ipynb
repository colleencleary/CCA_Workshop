{
 "cells": [
  {
   "cell_type": "code",
   "execution_count": 3,
   "metadata": {
    "collapsed": false
   },
   "outputs": [],
   "source": [
    "from illustris import getGalaxy\n",
    "import numpy as np\n",
    "import matplotlib\n",
    "import matplotlib.pyplot as plt\n",
    "%matplotlib inline"
   ]
  },
  {
   "cell_type": "code",
   "execution_count": 4,
   "metadata": {
    "collapsed": true
   },
   "outputs": [],
   "source": [
    "# Getting data from a particular galaxy (from online)\n",
    "\n",
    "# Here we pick which kinds of particles we want (0-gas, 4-stars)\n",
    "# and what information about them \n",
    "# (see http://www.illustris-project.org/data/docs/specifications/)\n",
    "fields=[\n",
    "    [4,'Coordinates'],\n",
    "    [4,'Velocities'],\n",
    "    [4,'Masses']\n",
    "]\n",
    "# Here we actually pull the data from online\n",
    "data=getGalaxy(42,fields)\n",
    "\n",
    "# And here we put it into simple numpy arrays to work with\n",
    "rStar=data[0][:,:]\n",
    "vStar=data[1][:,:]\n",
    "mStar=data[2][:]"
   ]
  },
  {
   "cell_type": "code",
   "execution_count": 4,
   "metadata": {
    "collapsed": true
   },
   "outputs": [],
   "source": [
    "# A few useful functions to build from\n",
    "\n",
    "# given the position and masses of the stars finds their center of mass\n",
    "def findCenterMass(rStar,mStar):\n",
    "    com=np.zeros(3)\n",
    "    for i in range(3):\n",
    "        com[i]=np.sum(rStar[:,i]*mStar[:])/np.sum(mStar[:])\n",
    "    return com\n",
    "\n",
    "# given the position and masses of the stars, some number of pixels and some distance finds\n",
    "# the projected total mass\n",
    "def findPixels(rStar,mStar,nPixels,span):\n",
    "    pixels=np.zeros((nPixels,nPixels))\n",
    "    for i in range(nPixels):\n",
    "        for j in range(nPixels):\n",
    "            inPix=np.argwhere((span*(((2*i)/nPixels)-1)<rStar[:,0])\n",
    "                            &(span*(((2*j)/nPixels)-1)<rStar[:,1])\n",
    "                         &(span*(((2*(i+1))/nPixels)-1)>rStar[:,0])\n",
    "                         &(span*(((2*(j+1))/nPixels)-1)>rStar[:,1]))\n",
    "            if inPix.size==0:\n",
    "                continue\n",
    "            pixels[i,j]=np.sum(mStar[inPix])\n",
    "    return pixels"
   ]
  },
  {
   "cell_type": "code",
   "execution_count": 5,
   "metadata": {
    "collapsed": true
   },
   "outputs": [],
   "source": [
    "# Moving all the co-ordinates such that the galaxy's centered on (0,0,0)\n",
    "\n",
    "nStar=len(mStar)\n",
    "com=findCenterMass(rStar,mStar) # finds the center of mass\n",
    "rStar=rStar-com # recenters all positions around the center of mass"
   ]
  },
  {
   "cell_type": "code",
   "execution_count": 6,
   "metadata": {
    "collapsed": false
   },
   "outputs": [
    {
     "data": {
      "image/png": "[encoded data removed]",
      "text/plain": [
       "<matplotlib.figure.Figure at 0x10bf2dd30>"
      ]
     },
     "metadata": {},
     "output_type": "display_data"
    }
   ],
   "source": [
    "# Finding and plotting the density profile\n",
    "\n",
    "# finds the distance between every particle and the origin\n",
    "rSquared=np.zeros(nStar)\n",
    "for i in range(3):\n",
    "    rSquared+=rStar[:,i]**2\n",
    "r=np.sqrt(rSquared) \n",
    "\n",
    "# finds all particles in each of a series of radial bins,\n",
    "# finds the total mass in that bin and divides by the volume\n",
    "nBins=16\n",
    "rMax=16\n",
    "rBins=np.linspace(0,rMax,nBins+1)\n",
    "density=np.zeros(nBins)\n",
    "for i in range(nBins):\n",
    "    inBin=np.argwhere((r>rBins[i]) & (r<rBins[i+1]))\n",
    "    if inBin.size==0:\n",
    "        continue\n",
    "    density[i]=np.sum(mStar[inBin])/(4*np.pi*(np.power(rBins[i+1],3) - np.power(rBins[i],3))/3)\n",
    "\n",
    "# plots the denisty\n",
    "densPlot=plt.gca()\n",
    "densPlot.semilogy(rBins[:-1],density)\n",
    "densPlot.set_ylabel('Density')\n",
    "densPlot.set_xlabel('Radius')\n",
    "plt.show(densPlot)"
   ]
  },
  {
   "cell_type": "code",
   "execution_count": 7,
   "metadata": {
    "collapsed": false
   },
   "outputs": [
    {
     "data": {
      "image/png": "[encoded data removed]",
      "text/plain": [
       "<matplotlib.figure.Figure at 0x111907080>"
      ]
     },
     "metadata": {},
     "output_type": "display_data"
    }
   ],
   "source": [
    "# Making a simple image of the galaxy\n",
    "\n",
    "pixels=findPixels(rStar,mStar,32,16)\n",
    "galaxyPlot=plt.gca()\n",
    "image=galaxyPlot.imshow(pixels)\n",
    "plt.colorbar(image)\n",
    "plt.show(galaxyPlot)"
   ]
  },
  {
   "cell_type": "code",
   "execution_count": null,
   "metadata": {
    "collapsed": true
   },
   "outputs": [],
   "source": []
  }
 ],
 "metadata": {
  "kernelspec": {
   "display_name": "Python 2",
   "language": "python",
   "name": "python2"
  },
  "language_info": {
   "codemirror_mode": {
    "name": "ipython",
    "version": 2
   },
   "file_extension": ".py",
   "mimetype": "text/x-python",
   "name": "python",
   "nbconvert_exporter": "python",
   "pygments_lexer": "ipython2",
   "version": "2.7.13"
  }
 },
 "nbformat": 4,
 "nbformat_minor": 2
}
