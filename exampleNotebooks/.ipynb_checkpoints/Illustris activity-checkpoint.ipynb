{
 "cells": [
  {
   "cell_type": "code",
   "execution_count": 3,
   "metadata": {
    "collapsed": false
   },
   "outputs": [],
   "source": [
    "from illustris import getGalaxy\n",
    "import numpy as np\n",
    "import matplotlib\n",
    "import matplotlib.pyplot as plt\n",
    "from __future__ import division\n",
    "from sklearn.preprocessing import scale\n",
    "%matplotlib inline"
   ]
  },
  {
   "cell_type": "code",
   "execution_count": 4,
   "metadata": {
    "collapsed": false
   },
   "outputs": [],
   "source": [
    "# Getting data from a particular galaxy (from online)\n",
    "\n",
    "# Here we pick which kinds of particles we want (0-gas, 4-stars)\n",
    "# and what information about them \n",
    "# (see http://www.illustris-project.org/data/docs/specifications/)\n",
    "fields=[\n",
    "    [4,'Coordinates'],\n",
    "    [4,'Velocities'],\n",
    "    [4,'Masses'],\n",
    "    [0,'Coordinates'],\n",
    "    [0, 'Volume'],\n",
    "    [0, 'Density']\n",
    "]\n",
    "# Here we actually pull the data from online\n",
    "data=getGalaxy(15,fields)\n",
    "\n",
    "# And here we put it into simple numpy arrays to work with\n",
    "rStar=data[0][:,:]\n",
    "vStar=data[1][:,:]\n",
    "mStar=data[2][:]\n",
    "rgas=data[3][:,:]\n",
    "volgas=data[4][:]\n",
    "dGas=data[5][:]"
   ]
  },
  {
   "cell_type": "code",
   "execution_count": 11,
   "metadata": {
    "collapsed": false
   },
   "outputs": [],
   "source": [
    "# A few useful functions to build from\n",
    "\n",
    "# given the position and masses of the stars finds their center of mass\n",
    "def findCenterMass(rStar,mStar):\n",
    "    com=np.zeros(3)\n",
    "    for i in range(3):\n",
    "        com[i]=np.sum(rStar[:,i]*mStar[:])/np.sum(mStar[:])\n",
    "    return com\n",
    "\n",
    "# given the position and masses of the stars, some number of pixels and some distance finds\n",
    "# the projected total mass\n",
    "def findPixels(coordinates, attribute, nPixels,span):\n",
    "    pixels=np.zeros((nPixels,nPixels))\n",
    "    for i in range(nPixels):\n",
    "        for j in range(nPixels):\n",
    "            inPix=np.argwhere((span*(((2*i)/nPixels)-1)<coordinates[:,0])\n",
    "                            &(span*(((2*j)/nPixels)-1)<coordinates[:,1])\n",
    "                         &(span*(((2*(i+1))/nPixels)-1)>coordinates[:,0])\n",
    "                         &(span*(((2*(j+1))/nPixels)-1)>coordinates[:,1]))\n",
    "            if inPix.size==0:\n",
    "                continue\n",
    "            pixels[i,j]=np.sum(attribute[inPix])\n",
    "    return pixels\n",
    "\n",
    "\n",
    "# Finding and plotting the density profile\n",
    "\n",
    "# finds the distance between every particle and the origin\n",
    "def density(nStar, rStar):\n",
    "    rSquared=np.zeros(nStar)\n",
    "    for i in range(3):\n",
    "        rSquared+=rStar[:,i]**2\n",
    "    r=np.sqrt(rSquared) \n",
    "    \n",
    "    # finds all particles in each of a series of radial bins,\n",
    "    # finds the total mass in that bin and divides by the volume\n",
    "    nBins=16\n",
    "    rMax=16\n",
    "    rBins=np.linspace(0,rMax,nBins+1)\n",
    "    density=np.zeros(nBins)\n",
    "    for i in range(nBins):\n",
    "        inBin=np.argwhere((r>rBins[i]) & (r<rBins[i+1]))\n",
    "        if inBin.size==0:\n",
    "            continue\n",
    "        density[i]=np.sum(mStar[inBin])/(4*np.pi*(np.power(rBins[i+1],3) - np.power(rBins[i],3))/3)\n",
    "    return density"
   ]
  },
  {
   "cell_type": "code",
   "execution_count": 12,
   "metadata": {
    "collapsed": true
   },
   "outputs": [],
   "source": [
    "# Moving all the co-ordinates such that the galaxy's centered on (0,0,0)\n",
    "\n",
    "nStar=len(mStar)\n",
    "com=findCenterMass(rStar,mStar) # finds the center of mass\n",
    "rStar=rStar-com # recenters all positions around the center of mass"
   ]
  },
  {
   "cell_type": "code",
   "execution_count": 28,
   "metadata": {
    "collapsed": false
   },
   "outputs": [
    {
     "data": {
      "text/plain": [
       "(226566, 3)"
      ]
     },
     "execution_count": 28,
     "metadata": {},
     "output_type": "execute_result"
    }
   ],
   "source": [
    "rStar.shape"
   ]
  },
  {
   "cell_type": "code",
   "execution_count": 32,
   "metadata": {
    "collapsed": false
   },
   "outputs": [
    {
     "data": {
      "text/plain": [
       "array([[ 0.,  0.,  0., ...,  0.,  0.,  0.],\n",
       "       [ 0.,  0.,  0., ...,  0.,  0.,  0.],\n",
       "       [ 0.,  0.,  0., ...,  0.,  0.,  0.],\n",
       "       ..., \n",
       "       [ 0.,  0.,  0., ...,  0.,  0.,  0.],\n",
       "       [ 0.,  0.,  0., ...,  0.,  0.,  0.],\n",
       "       [ 0.,  0.,  0., ...,  0.,  0.,  0.]])"
      ]
     },
     "execution_count": 32,
     "metadata": {},
     "output_type": "execute_result"
    }
   ],
   "source": [
    "pixels"
   ]
  },
  {
   "cell_type": "code",
   "execution_count": 31,
   "metadata": {
    "collapsed": false
   },
   "outputs": [
    {
     "data": {
      "image/png": "[encoded data removed]",
      "text/plain": [
       "<matplotlib.figure.Figure at 0x10b4bb490>"
      ]
     },
     "metadata": {},
     "output_type": "display_data"
    }
   ],
   "source": [
    "# Making a simple image of the galaxy\n",
    "\n",
    "pixels=findPixels(rgas,dGas,32,16)\n",
    "galaxyPlot=plt.gca()\n",
    "image=galaxyPlot.imshow(pixels)\n",
    "plt.colorbar(image)\n",
    "plt.show(galaxyPlot)"
   ]
  },
  {
   "cell_type": "code",
   "execution_count": null,
   "metadata": {
    "collapsed": true
   },
   "outputs": [],
   "source": [
    "# Here we actually pull the data from online\n",
    "data2=getGalaxy(300122,fields)\n",
    "\n",
    "# And here we put it into simple numpy arrays to work with\n",
    "rStar2=data2[0][:,:]\n",
    "vStar2=data2[1][:,:]\n",
    "mStar2=data2[2][:]\n",
    "rgas2=data2[3][:,:]\n",
    "volgas2=data2[4][:]"
   ]
  },
  {
   "cell_type": "code",
   "execution_count": null,
   "metadata": {
    "collapsed": true
   },
   "outputs": [],
   "source": [
    "# Moving all the co-ordinates such that the galaxy's centered on (0,0,0)\n",
    "\n",
    "nStar2=len(mStar2)\n",
    "com2=findCenterMass(rStar2,mStar2) # finds the center of mass\n",
    "rStar2=rStar2-com2 # recenters all positions around the center of mass"
   ]
  },
  {
   "cell_type": "code",
   "execution_count": null,
   "metadata": {
    "collapsed": false
   },
   "outputs": [],
   "source": [
    "# Making a simple image of the galaxy\n",
    "\n",
    "pixels2=findPixels(rStar2,mStar2,32,16)\n",
    "galaxyPlot2=plt.gca()\n",
    "image2=galaxyPlot2.imshow(pixels2)\n",
    "plt.colorbar(image2)\n",
    "plt.show(galaxyPlot2)"
   ]
  },
  {
   "cell_type": "code",
   "execution_count": null,
   "metadata": {
    "collapsed": false
   },
   "outputs": [],
   "source": [
    "# Here we actually pull the data from online\n",
    "data3=getGalaxy(342260,fields)\n",
    "\n",
    "# And here we put it into simple numpy arrays to work with\n",
    "rStar3=data3[0][:,:]\n",
    "vStar3=data3[1][:,:]\n",
    "mStar3=data3[2][:]\n",
    "rgas3=data3[3][:,:]\n",
    "volgas3=data3[4][:]\n",
    "\n",
    "# Moving all the co-ordinates such that the galaxy's centered on (0,0,0)\n",
    "\n",
    "nStar3=len(mStar3)\n",
    "com3=findCenterMass(rStar3,mStar3) # finds the center of mass\n",
    "rStar3=rStar3-com3 # recenters all positions around the center of mass\n",
    "\n",
    "# Making a simple image of the galaxy\n",
    "\n",
    "pixels3=findPixels(rStar3,mStar3,32,16)\n",
    "galaxyPlot3=plt.gca()\n",
    "image3=galaxyPlot3.imshow(pixels3)\n",
    "plt.colorbar(image3)\n",
    "plt.show(galaxyPlot3)"
   ]
  },
  {
   "cell_type": "code",
   "execution_count": null,
   "metadata": {
    "collapsed": false
   },
   "outputs": [],
   "source": [
    "# Here we actually pull the data from online\n",
    "data4=getGalaxy(382533,fields)\n",
    "\n",
    "# And here we put it into simple numpy arrays to work with\n",
    "rStar4=data4[0][:,:]\n",
    "vStar4=data4[1][:,:]\n",
    "mStar4=data4[2][:]\n",
    "rgas4=data4[3][:,:]\n",
    "volgas4=data4[4][:]\n",
    "\n",
    "# Moving all the co-ordinates such that the galaxy's centered on (0,0,0)\n",
    "\n",
    "nStar4=len(mStar4)\n",
    "com4=findCenterMass(rStar4,mStar4) # finds the center of mass\n",
    "rStar4=rStar4-com4 # recenters all positions around the center of mass\n",
    "\n",
    "# Making a simple image of the galaxy\n",
    "\n",
    "pixels4=findPixels(rStar4,mStar4,32,16)\n",
    "galaxyPlot4=plt.gca()\n",
    "image4=galaxyPlot4.imshow(pixels4)\n",
    "plt.colorbar(image4)\n",
    "plt.show(galaxyPlot4)"
   ]
  },
  {
   "cell_type": "code",
   "execution_count": null,
   "metadata": {
    "collapsed": true
   },
   "outputs": [],
   "source": []
  },
  {
   "cell_type": "code",
   "execution_count": null,
   "metadata": {
    "collapsed": true
   },
   "outputs": [],
   "source": []
  },
  {
   "cell_type": "code",
   "execution_count": null,
   "metadata": {
    "collapsed": true
   },
   "outputs": [],
   "source": []
  },
  {
   "cell_type": "code",
   "execution_count": null,
   "metadata": {
    "collapsed": true
   },
   "outputs": [],
   "source": []
  }
 ],
 "metadata": {
  "kernelspec": {
   "display_name": "Python 2",
   "language": "python",
   "name": "python2"
  },
  "language_info": {
   "codemirror_mode": {
    "name": "ipython",
    "version": 2
   },
   "file_extension": ".py",
   "mimetype": "text/x-python",
   "name": "python",
   "nbconvert_exporter": "python",
   "pygments_lexer": "ipython2",
   "version": "2.7.13"
  }
 },
 "nbformat": 4,
 "nbformat_minor": 2
}
