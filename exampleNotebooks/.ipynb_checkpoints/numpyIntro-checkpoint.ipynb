{
 "cells": [
  {
   "cell_type": "markdown",
   "metadata": {},
   "source": [
    "# Handling data (i.e. numpy)"
   ]
  },
  {
   "cell_type": "markdown",
   "metadata": {},
   "source": [
    "The reason python is such a useful language is not because it's the fastest, the most feauture rich or even very well written.\n",
    "\n",
    "It's strength comes from the fact it's: relatively readable, high-functioning (you can do complex things in just a few lines) but most of all because it's very easy to import new tools to suit almost any task.\n",
    "\n",
    "We're going to quickly introduce a couple of these that you'll use heavily over the next couple of days: numpy and matplotlib (in the next notebook)"
   ]
  },
  {
   "cell_type": "markdown",
   "metadata": {},
   "source": [
    "## Numpy - big data in a simple \"list\" (technically an array)\n",
    "\n",
    "Numpy may be the most useful tool for scientific coding. It allows you to write short code that runs very quickly operating on huge \"lists\" of data. N.b. I'm calling them, unofficially, \"lists\" here, because that's a good description of them in plain english. However a list is a different python object and numpy technically deals in ARRAYS, just a name for their particular kind of list that we'll use from now on."
   ]
  },
  {
   "cell_type": "markdown",
   "metadata": {},
   "source": [
    "### Importing modules\n",
    "\n",
    "I'm going to assume you have numpy installed (because we asked you to!) hopefully through a simple python package manager like Anaconda (or maybe pip).\n",
    "\n",
    "But we still have to tell python we want to use numpy, or in python jargon, we have to \"import the numpy module\"\n",
    "\n",
    "The way we do this is lovely and simple. We're going to complicate it a little by using a useful but extra shorthand, we could just import numpy and when we want to call a function in it say numpy.someFunction(), but that will quickly get tiresome. So instead we tell python that we're going to call this new module \"np\", we could choose anything here, like \"reallyUsefulPythonModule\", but that would kind of defeat the point..."
   ]
  },
  {
   "cell_type": "code",
   "execution_count": 1,
   "metadata": {
    "collapsed": true
   },
   "outputs": [],
   "source": [
    "import numpy as np"
   ]
  },
  {
   "cell_type": "markdown",
   "metadata": {},
   "source": [
    "Now it's importted and we could use it any and everywhere.\n",
    "\n",
    "### What does numpy do?\n",
    "\n",
    "Let's start working with these arrays. There's a whole bunch of ways to make an array, here's just a few:"
   ]
  },
  {
   "cell_type": "code",
   "execution_count": 24,
   "metadata": {
    "collapsed": false
   },
   "outputs": [
    {
     "name": "stdout",
     "output_type": "stream",
     "text": [
      "('a= ', array([ 1,  1,  2,  3,  5,  8, 13, 21, 34, 55]))\n",
      "('b= ', array([0, 1, 2, 3, 4]))\n",
      "('c= ', array([10,  8,  6,  4,  2,  0, -2, -4, -6, -8]))\n",
      "('d= \\n', array([[ 0.,  0.],\n",
      "       [ 0.,  0.],\n",
      "       [ 0.,  0.]]))\n",
      "('e= \\n', array([[ 1.,  1.],\n",
      "       [ 1.,  1.],\n",
      "       [ 1.,  1.]]))\n"
     ]
    }
   ],
   "source": [
    "a=np.array([1,1,2,3,5,8,13,21,34,55]) #simple 1D array of user inputted values (here the fibonacci sequence)\n",
    "print('a= ',a)\n",
    "b=np.arange(5) #1D array of the number 0,1,2,3,4 \n",
    "#(note that numpy inteprets this as \"give me the number up to but not including 5\")\n",
    "print('b= ',b)\n",
    "\n",
    "#in fact, arange can do a lot of things\n",
    "#you can always google these commands for more info but here's an example:\n",
    "c=np.arange(10,-10,-2) #this gives me the numbers (10,8,6,4,2,0,-2,-4,-6,-8)\n",
    "print('c= ',c)\n",
    "\n",
    "#arrays can have more than one dimension, for example:\n",
    "d=np.zeros((3,2)) #this is a 3 by 2 array of zeros (more useful than you might think!)\n",
    "print('d= \\n',d) #(\\n just means new line, makes it easier to read)\n",
    "\n",
    "#you can even make arrays of the same dimensions as existing arrays, e.g.\n",
    "e=np.ones_like(d)\n",
    "print('e= \\n',e)"
   ]
  },
  {
   "cell_type": "markdown",
   "metadata": {},
   "source": [
    "So we can make numpy arrays, but why do we use them? Because they allow us to do stuff to EVERYTHING in the array in one action (rather than looping through entry by entry)\n",
    "\n",
    "E.g."
   ]
  },
  {
   "cell_type": "code",
   "execution_count": 25,
   "metadata": {
    "collapsed": false
   },
   "outputs": [
    {
     "name": "stdout",
     "output_type": "stream",
     "text": [
      "('We can add: ', array([[ 3.,  3.],\n",
      "       [ 3.,  3.],\n",
      "       [ 3.,  3.]]))\n",
      "('or: ', array([11,  9,  8,  7,  7,  8, 11, 17, 28, 47]))\n",
      "('We can multiply: ', array([ 5.,  4.,  3.,  2.,  1.,  0., -1., -2., -3., -4.]))\n",
      "('And even: ', array([  10,    8,   12,   12,   10,    0,  -26,  -84, -204, -440]))\n"
     ]
    }
   ],
   "source": [
    "print('We can add: ',e+2)\n",
    "print('or: ',a+c) #note that these both have the same dimension\n",
    "#you can't add tall and skinny to short and fat!\n",
    "print('We can multiply: ',0.5*c)\n",
    "print('And even: ',a*c)"
   ]
  },
  {
   "cell_type": "markdown",
   "metadata": {
    "collapsed": true
   },
   "source": [
    "## What else does numpy do?\n",
    "\n",
    "We can make a bunch of arrays, and then start throwing them about, but that's only part of what numpy does. There are (probably) thousands of commands, some of them incredibly useful, some of them you'll probably never see. As always google is your friend if you want to do something specific, but here's one that will likely be useful to everyone immediately:"
   ]
  },
  {
   "cell_type": "markdown",
   "metadata": {},
   "source": [
    "### The stack commands\n",
    "We can all admit that we'd rather be playing with Lego at basically any moment. Luckily with numpy we almost can. The \"stack\" commands stick arrays together, either head to tail or side to side.\n",
    "\n",
    "Imagine we have 3 anchovies, tall and thin. We could stick them together head to tail (i.e. vertically), and make a really bad rope. Or we could stick them together side to side (i.e. horizontally) and fit the in a sardine tin.\n",
    "\n",
    "In this case, as in most, the more useful form is obvious (unless anyone can think of a good use for a fish-rope?). Honestly, I tend to work out the right one by trying one, and if it doesn't work trying the other, but feel free to show me up!"
   ]
  },
  {
   "cell_type": "code",
   "execution_count": 23,
   "metadata": {
    "collapsed": false
   },
   "outputs": [
    {
     "name": "stdout",
     "output_type": "stream",
     "text": [
      "('aHorizontal: \\n', array([ 1,  1,  2,  3,  5,  8, 13, 21, 34, 55,  1,  1,  2,  3,  5,  8, 13,\n",
      "       21, 34, 55]))\n",
      "('aVertical: \\n', array([[ 1,  1,  2,  3,  5,  8, 13, 21, 34, 55],\n",
      "       [ 1,  1,  2,  3,  5,  8, 13, 21, 34, 55]]))\n",
      "('acVertical: \\n', array([[ 1,  1,  2,  3,  5,  8, 13, 21, 34, 55],\n",
      "       [10,  8,  6,  4,  2,  0, -2, -4, -6, -8]]))\n",
      "('deHorizontal: \\n', array([[ 0.,  0.,  1.,  1.],\n",
      "       [ 0.,  0.,  1.,  1.],\n",
      "       [ 0.,  0.,  1.,  1.]]))\n"
     ]
    }
   ],
   "source": [
    "aHorizontal=np.hstack((a,a)) #note the second set of brackets!\n",
    "print('aHorizontal: \\n',aHorizontal) #fish-rope\n",
    "aVertical=np.vstack((a,a))\n",
    "print('aVertical: \\n',aVertical) #anchovies in a tin\n",
    "\n",
    "acVertical=np.vstack((a,c)) #as long as two arrays have compatible dimensions we can stack em\n",
    "print('acVertical: \\n',acVertical)\n",
    "\n",
    "deHorizontal=np.hstack((d,e)) #and we can do just the same for 2(+) dimensional arrays\n",
    "print('deHorizontal: \\n',deHorizontal)"
   ]
  },
  {
   "cell_type": "markdown",
   "metadata": {},
   "source": [
    "### Pulling out bits of arrays\n",
    "\n",
    "There are quite a few ways to pull out some part of an array, let's start with the most basic: grabbing everything in one dimension."
   ]
  },
  {
   "cell_type": "code",
   "execution_count": 31,
   "metadata": {
    "collapsed": false
   },
   "outputs": [
    {
     "name": "stdout",
     "output_type": "stream",
     "text": [
      "('The third element in a: ', 3)\n",
      "('The zeroth element in c: ', 10)\n",
      "('The second element from the end of b: ', 3)\n",
      "('Zeroth row, first column of acVertical: ', 1)\n",
      "('First row, zeroth column of acVertical: ', 10)\n",
      "('Second row of deHorizontal: ', array([ 0.,  0.,  1.,  1.]))\n",
      "('Thrid column of acVertical: ', array([3, 4]))\n",
      "('Second, Third and Fourth elements of a: ', array([2, 3, 5]))\n",
      "Fifth to penultimate elements from first row of acVertical: [ 0 -2 -4 -6]\n"
     ]
    }
   ],
   "source": [
    "#We can pull out individual elements, e.g.\n",
    "print('The third element in a: ',a[3])\n",
    "#Remember that (almost) every computing language starts counting at 0, hence\n",
    "print('The zeroth element in c: ',c[0])\n",
    "#Numpy also has a useful for shorthand for pulling out stuff at the back to the array\n",
    "print('The second element from the end of b: ',b[-2])\n",
    "\n",
    "#For multidimensional arrays (such as acVertical above) we can pull out individual elements\n",
    "#by telling numpy how for DOWN and then ACROSS the element we want is\n",
    "print('Zeroth row, first column of acVertical: ',acVertical[0,1])\n",
    "print('First row, zeroth column of acVertical: ',acVertical[1,0])\n",
    "\n",
    "#We can also pull out how rows using \":\" (which basically means everything)\n",
    "print('Second row of deHorizontal: ',deHorizontal[2,:])\n",
    "print('Thrid column of acVertical: ',acVertical[:,3])\n",
    "\n",
    "#Finally, we can use the \":\" command to define a range of values to pull out\n",
    "print('Second, Third and Fourth elements of a: ',a[2:5])\n",
    "print'Fifth to penultimate elements from first row of acVertical: '+str(acVertical[1,5:-1])"
   ]
  },
  {
   "cell_type": "markdown",
   "metadata": {
    "collapsed": true
   },
   "source": [
    "### The where command\n",
    "\n",
    "Sometimes we want more specific parts of an array, that's where the WHERE command comes in.\n",
    "\n",
    "The where command tells you where something is true.\n",
    "It's really useful for looking for relevant data in a long array."
   ]
  },
  {
   "cell_type": "code",
   "execution_count": 16,
   "metadata": {
    "collapsed": false
   },
   "outputs": [
    {
     "name": "stdout",
     "output_type": "stream",
     "text": [
      "aIndex: \n",
      " [[5]\n",
      " [6]]\n",
      "and the corresponding entries: \n",
      " [[ 8]\n",
      " [13]]\n",
      "the indices: \n",
      " [[0]\n",
      " [1]\n",
      " [2]\n",
      " [3]\n",
      " [4]]\n",
      "and the corresponding entries: \n",
      " [[10]\n",
      " [ 8]\n",
      " [ 6]\n",
      " [ 4]\n",
      " [ 2]]\n"
     ]
    }
   ],
   "source": [
    "aIndex=np.argwhere((a > 5) & (a < 20)) #the locations of elements in a that satisfy this condition\n",
    "print('aIndex: \\n',aIndex)\n",
    "print('and the corresponding entries: \\n',a[aIndex])\n",
    "\n",
    "#You can also pick data out of multidimensional arrays, for example the entries of \n",
    "#acVertical for which the first row is positive\n",
    "acIndex=np.argwhere(acVertical[1,:] > 0)\n",
    "print('the indices: \\n',acIndex)\n",
    "print('and the corresponding entries: \\n',acVertical[1,acIndex])"
   ]
  },
  {
   "cell_type": "markdown",
   "metadata": {},
   "source": [
    "### Random, mean and standard deviation\n",
    "\n",
    "When we have a whole bunch of data we often want to reduce it to just 2 numbers, a mean and a standard deviation."
   ]
  },
  {
   "cell_type": "code",
   "execution_count": 104,
   "metadata": {
    "collapsed": false
   },
   "outputs": [
    {
     "name": "stdout",
     "output_type": "stream",
     "text": [
      "10 random numbers between 0 and 1: \n",
      " [ 0.7792396   0.18407444  0.45118353  0.39815263  0.25962708  0.02948794\n",
      "  0.11975714  0.0878027   0.23987961  0.61515646]\n",
      "Mean:  0.316436111836\n",
      "Error in the mean:  0.0726744968058\n",
      "New mean:  0.499951321469\n",
      "and new error:  0.000229816937713\n"
     ]
    }
   ],
   "source": [
    "# First let's make some random data to work with\n",
    "randomData=np.random.random(10) # yes I know this is a function stupid name...\n",
    "print('10 random numbers between 0 and 1: \\n',randomData)\n",
    "print('Mean: ',np.mean(randomData))\n",
    "print('Error in the mean: ',np.std(randomData)/np.sqrt(10))\n",
    "\n",
    "# Notice what happens with more data points\n",
    "newData=np.random.random(1000000) # WAAAAY more data\n",
    "print('New mean: ',np.mean(newData))\n",
    "print('and new error: ',np.std(randomData)/np.sqrt(1000000))"
   ]
  },
  {
   "cell_type": "markdown",
   "metadata": {},
   "source": [
    "### The sort command\n",
    "\n",
    "The final tool we'll introduce here is the SORT command. This does exactly what it says, takes your data and sorts it. Sometimes more useful than a command that does the sorting for us is ARGSORT, which gives us the indices we'd need to resort the array ourselves."
   ]
  },
  {
   "cell_type": "code",
   "execution_count": 75,
   "metadata": {
    "collapsed": false,
    "scrolled": true
   },
   "outputs": [
    {
     "name": "stdout",
     "output_type": "stream",
     "text": [
      "g:  [ 6  3  7  3  2  1  9 10]\n",
      "gSorted:  [ 1  2  3  3  6  7  9 10]\n",
      "sortedIndices:  [5 4 1 3 0 2 6 7]\n",
      "and the sorted array:  [ 1  2  3  3  6  7  9 10]\n",
      "cMagSorted:  [5 4 6 3 7 2 8 1 9 0]\n",
      "c in absolute value order:  [ 0  2 -2  4 -4  6 -6  8 -8 10]\n",
      "and finally, absolute values of c sorted in absolute value order:  [ 0  2  2  4  4  6  6  8  8 10]\n"
     ]
    }
   ],
   "source": [
    "g=np.array([6,3,7,3,2,1,9,10])\n",
    "print('g: ',g)\n",
    "gSorted=np.sort(g)\n",
    "print('gSorted: ',gSorted) #g in ascending order\n",
    "\n",
    "#or we could do it in two steps, with argsort \n",
    "#(one of those commands that doesn't seem useful until it's really useful...)\n",
    "sortedIndices=np.argsort(g)\n",
    "print('sortedIndices: ',sortedIndices)\n",
    "print('and the sorted array: ',g[sortedIndices])\n",
    "\n",
    "#We don't need to sort the array into ascending order,\n",
    "#we can ask for the sorted indeces of anther array and use those instead. E.g.\n",
    "cMagSorted=np.argsort(np.abs(c)) #the ABS command gives the absolute value\n",
    "print('cMagSorted: ',cMagSorted)\n",
    "print('c in absolute value order: ',c[cMagSorted])\n",
    "print('and finally, absolute values of c sorted in absolute value order: ',np.abs(c[cMagSorted]))"
   ]
  },
  {
   "cell_type": "markdown",
   "metadata": {},
   "source": [
    "## Challenge - how random is random\n",
    "Make a big random array (100 elements should do) of random numbers between -1 and 1, sort it and find the mean difference between consecutive values? How does this relate to the size?\n",
    "\n",
    "(Challenge challenge - try doing the same with a for-loop and use the %timeit command to compare how long it takes)"
   ]
  },
  {
   "cell_type": "code",
   "execution_count": 48,
   "metadata": {
    "collapsed": false
   },
   "outputs": [],
   "source": [
    "rand_array=2*np.random.random(100)-1\n",
    "rand_sort=np.sort(rand_array)\n",
    "diff=rand_sort[1:]-rand_sort[:-1]"
   ]
  },
  {
   "cell_type": "code",
   "execution_count": 49,
   "metadata": {
    "collapsed": false
   },
   "outputs": [
    {
     "data": {
      "text/plain": [
       "array([  8.24935686e-03,   4.21236973e-02,   3.68459452e-02,\n",
       "         2.21212886e-02,   1.42200483e-02,   3.20418902e-02,\n",
       "         3.69553029e-04,   2.51179683e-02,   9.31155678e-03,\n",
       "         9.41650197e-03,   3.00364847e-02,   6.83188485e-02,\n",
       "         1.92718732e-03,   4.03845614e-02,   1.83440899e-03,\n",
       "         6.06066271e-02,   3.77537078e-03,   1.15676367e-02,\n",
       "         4.14050719e-02,   1.27658638e-02,   5.71294419e-02,\n",
       "         2.42622088e-02,   1.70766406e-02,   5.00278418e-03,\n",
       "         1.45947547e-04,   1.76094806e-02,   8.29580123e-03,\n",
       "         2.12907945e-02,   3.26313031e-02,   2.46373002e-02,\n",
       "         1.91962766e-02,   6.35546567e-02,   8.45218037e-03,\n",
       "         8.82621788e-05,   2.06275222e-02,   8.49045066e-04,\n",
       "         3.73642282e-02,   3.22886733e-03,   6.56352105e-03,\n",
       "         5.49219431e-02,   3.19721145e-02,   7.18076093e-02,\n",
       "         2.44562865e-02,   1.28951587e-02,   7.19473906e-03,\n",
       "         2.09627131e-02,   2.43180977e-03,   5.27530258e-03,\n",
       "         9.11484879e-03,   5.12400909e-02,   1.98908945e-03,\n",
       "         7.79833120e-04,   1.04459056e-02,   2.08071922e-02,\n",
       "         2.44703461e-03,   5.82445768e-04,   1.51107830e-02,\n",
       "         2.83414287e-02,   2.40111676e-02,   5.25543625e-02,\n",
       "         1.07985945e-02,   4.84363587e-03,   3.63103009e-03,\n",
       "         1.49431510e-02,   1.05113635e-03,   1.33530107e-02,\n",
       "         2.07961584e-02,   1.39710807e-02,   5.36496415e-03,\n",
       "         1.05440789e-02,   1.08436733e-03,   9.51011607e-02,\n",
       "         1.14476736e-02,   3.44174931e-03,   9.40182729e-03,\n",
       "         9.68842414e-03,   4.97051252e-03,   1.26420271e-02,\n",
       "         8.43008838e-04,   2.75701071e-03,   3.50305350e-02,\n",
       "         8.64783777e-03,   2.05266274e-02,   3.58989856e-02,\n",
       "         2.00605399e-02,   8.11421747e-04,   6.09090293e-02,\n",
       "         6.17674983e-03,   4.52059525e-02,   1.91692392e-02,\n",
       "         5.63541360e-03,   1.79734278e-02,   2.28849733e-03,\n",
       "         9.85678757e-03,   9.79847847e-03,   3.85452906e-03,\n",
       "         4.03796737e-02,   2.56808865e-02,   3.58069637e-02])"
      ]
     },
     "execution_count": 49,
     "metadata": {},
     "output_type": "execute_result"
    }
   ],
   "source": [
    "diff"
   ]
  },
  {
   "cell_type": "code",
   "execution_count": null,
   "metadata": {
    "collapsed": true
   },
   "outputs": [],
   "source": []
  }
 ],
 "metadata": {
  "kernelspec": {
   "display_name": "Python 2",
   "language": "python",
   "name": "python2"
  },
  "language_info": {
   "codemirror_mode": {
    "name": "ipython",
    "version": 2
   },
   "file_extension": ".py",
   "mimetype": "text/x-python",
   "name": "python",
   "nbconvert_exporter": "python",
   "pygments_lexer": "ipython2",
   "version": "2.7.13"
  }
 },
 "nbformat": 4,
 "nbformat_minor": 2
}
