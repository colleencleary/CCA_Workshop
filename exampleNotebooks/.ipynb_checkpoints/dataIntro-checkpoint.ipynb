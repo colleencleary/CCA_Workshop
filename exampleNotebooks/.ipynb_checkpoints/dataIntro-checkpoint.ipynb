{
 "cells": [
  {
   "cell_type": "code",
   "execution_count": 1,
   "metadata": {
    "collapsed": true
   },
   "outputs": [],
   "source": [
    "from illustris import getGalaxy\n",
    "import numpy as np\n",
    "import matplotlib\n",
    "import matplotlib.pyplot as plt\n",
    "%matplotlib inline"
   ]
  },
  {
   "cell_type": "code",
   "execution_count": 26,
   "metadata": {},
   "outputs": [],
   "source": [
    "# getting data from a particular galaxy (from online)\n",
    "fields=[\n",
    "    [4,'Coordinates'],\n",
    "    [4,'Velocities'],\n",
    "    [4,'Masses']\n",
    "]\n",
    "data=getGalaxy(42,fields)\n",
    "rStar=data[0][:,:]\n",
    "vStar=data[1][:,:]\n",
    "mStar=data[2][:]"
   ]
  },
  {
   "cell_type": "code",
   "execution_count": 27,
   "metadata": {
    "collapsed": true
   },
   "outputs": [],
   "source": [
    "# given the position and masses of the stars finds their center of mass\n",
    "def findCenterMass(rStar,mStar):\n",
    "    com=np.zeros(3)\n",
    "    for i in range(3):\n",
    "        com[i]=np.sum(rStar[:,i]*mStar[:])/np.sum(mStar[:])\n",
    "    return com\n",
    "\n",
    "# given the position and masses of the stars, some number of pixels and some distance finds\n",
    "# the projected total mass\n",
    "def findPixels(rStar,mStar,nPixels,span):\n",
    "    pixels=np.zeros((nPixels,nPixels))\n",
    "    for i in range(nPixels):\n",
    "        for j in range(nPixels):\n",
    "            inPix=np.argwhere((span*(((2*i)/nPixels)-1)<rStar[:,0])\n",
    "                            &(span*(((2*j)/nPixels)-1)<rStar[:,1])\n",
    "                         &(span*(((2*(i+1))/nPixels)-1)>rStar[:,0])\n",
    "                         &(span*(((2*(j+1))/nPixels)-1)>rStar[:,1]))\n",
    "            if inPix.size==0:\n",
    "                continue\n",
    "            pixels[i,j]=np.sum(mStar[inPix])\n",
    "    return pixels"
   ]
  },
  {
   "cell_type": "code",
   "execution_count": 28,
   "metadata": {
    "collapsed": true
   },
   "outputs": [],
   "source": [
    "nStar=len(mStar)\n",
    "com=findCenterMass(rStar,mStar) # finds the center of mass\n",
    "rStar=rStar-com # recenters all positions around the center of mass"
   ]
  },
  {
   "cell_type": "code",
   "execution_count": 29,
   "metadata": {},
   "outputs": [
    {
     "data": {
      "image/png": "[encoded data removed]",
      "text/plain": [
       "<matplotlib.figure.Figure at 0x112c674e0>"
      ]
     },
     "metadata": {},
     "output_type": "display_data"
    }
   ],
   "source": [
    "rSquared=np.zeros(nStar)\n",
    "for i in range(3):\n",
    "    rSquared+=rStar[:,i]**2\n",
    "r=np.sqrt(rSquared) \n",
    "\n",
    "nBins=16\n",
    "rMax=32\n",
    "rBins=np.linspace(0,rMax,nBins+1)\n",
    "density=np.zeros(nBins)\n",
    "for i in range(nBins):\n",
    "    inBin=np.argwhere((r>rBins[i]) & (r<rBins[i+1]))\n",
    "    if inBin.size==0:\n",
    "        continue\n",
    "    density[i]=np.sum(mStar[inBin])/(4*np.pi*(np.power(rBins[i+1],3) - np.power(rBins[i],3))/3)\n",
    "\n",
    "densPlot=plt.gca()\n",
    "densPlot.semilogy(rBins[:-1],density)\n",
    "densPlot.set_ylabel('Density')\n",
    "densPlot.set_xlabel('Radius')\n",
    "plt.show(densPlot)"
   ]
  },
  {
   "cell_type": "code",
   "execution_count": 31,
   "metadata": {},
   "outputs": [
    {
     "data": {
      "image/png": "[encoded data removed]",
      "text/plain": [
       "<matplotlib.figure.Figure at 0x1135c7b38>"
      ]
     },
     "metadata": {},
     "output_type": "display_data"
    }
   ],
   "source": [
    "pixels=findPixels(rStar,mStar,32,16)\n",
    "galaxyPlot=plt.gca()\n",
    "galaxyPlot.imshow(pixels)\n",
    "plt.show(galaxyPlot)"
   ]
  },
  {
   "cell_type": "code",
   "execution_count": null,
   "metadata": {
    "collapsed": true
   },
   "outputs": [],
   "source": []
  }
 ],
 "metadata": {
  "kernelspec": {
   "display_name": "Python [default]",
   "language": "python",
   "name": "python3"
  },
  "language_info": {
   "codemirror_mode": {
    "name": "ipython",
    "version": 3
   },
   "file_extension": ".py",
   "mimetype": "text/x-python",
   "name": "python",
   "nbconvert_exporter": "python",
   "pygments_lexer": "ipython3",
   "version": "3.5.2"
  }
 },
 "nbformat": 4,
 "nbformat_minor": 2
}
